{
 "cells": [
  {
   "cell_type": "markdown",
   "metadata": {},
   "source": [
    "# Tide Web Scrapping"
   ]
  },
  {
   "cell_type": "markdown",
   "metadata": {},
   "source": [
    "This notebook is a demonstration of how I scrapped data from the Hidrography service (a dynamical website)"
   ]
  },
  {
   "cell_type": "markdown",
   "metadata": {},
   "source": [
    "## 0. Import Modules"
   ]
  },
  {
   "cell_type": "code",
   "execution_count": 5,
   "metadata": {},
   "outputs": [],
   "source": [
    "from datetime import datetime\n",
    "import pandas as pd\n",
    "from time import sleep\n",
    "from selenium import webdriver\n",
    "from selenium.webdriver.common.by import By"
   ]
  },
  {
   "cell_type": "markdown",
   "metadata": {},
   "source": [
    "## 2. Scrap Data"
   ]
  },
  {
   "cell_type": "markdown",
   "metadata": {},
   "source": [
    " This function retrieves tide data from a website for a specified year and month, interacting with dropdown menus and buttons using Selenium WebDriver.  \n",
    " \n",
    " After selecting the desired locality (San Fernando), year (2022-2024), and month (1-12), it executes a query and extracts the data from two tables displayed on the webpage before returning them as lists.  \n",
    "\n",
    " Finally, the function wil create a dataframe to store all the collected data (originally in 2 tables)"
   ]
  },
  {
   "cell_type": "code",
   "execution_count": 6,
   "metadata": {},
   "outputs": [],
   "source": [
    "def retrieve_and_create_df(year_start:int, year_end:int):\n",
    "    \n",
    "    url = \"http://www.hidro.gov.ar/oceanografia/Tmareas/Form_Tmareas.asp\"\n",
    "    driver = webdriver.Chrome()\n",
    "    driver.get(url)\n",
    "\n",
    "    data_frames = []\n",
    "\n",
    "    for year_input in range(year_start, year_end + 1):\n",
    "        for month_input in range(1, 13):\n",
    "            # Select locality\n",
    "            locality = driver.find_element(By.XPATH, '//*[@id=\"main\"]/div/section/div/article/form/div/div[2]/div/select')\n",
    "            locality.click()\n",
    "\n",
    "            san_fernando = driver.find_element(By.XPATH, '//*[@id=\"main\"]/div/section/div/article/form/div/div[2]/div/select/option[46]')\n",
    "            san_fernando.click()\n",
    "\n",
    "            # Select year and month\n",
    "            year_select = driver.find_element(By.XPATH, '//*[@id=\"main\"]/div/section/div/article/form/div/div[1]/div/select')\n",
    "            year_select.click()\n",
    "            year_selected = driver.find_element(By.XPATH, f'//*[@id=\"main\"]/div/section/div/article/form/div/div[1]/div/select/option[@value=\"{year_input}\"]')\n",
    "            year_selected.click()\n",
    "            \n",
    "            month_select = driver.find_element(By.XPATH, '//*[@id=\"main\"]/div/section/div/article/form/div/div[3]/div/select')\n",
    "            month_select.click()\n",
    "            month_selected = driver.find_element(By.XPATH, f'//*[@id=\"main\"]/div/section/div/article/form/div/div[3]/div/select/option[@value=\"{month_input:02d}\"]')\n",
    "            month_selected.click()\n",
    "            \n",
    "            # Execute Consulta\n",
    "            ejecutar_consulta = driver.find_element(By.XPATH, '//*[@id=\"main\"]/div/section/div/article/form/button') \n",
    "            ejecutar_consulta.click()\n",
    "\n",
    "            sleep(5)\n",
    "\n",
    "            # Switch to iframe context\n",
    "            iframe = driver.find_element(By.ID, 'tablasdemarea')\n",
    "            driver.switch_to.frame(iframe)\n",
    "\n",
    "            table_1 = driver.find_element(By.XPATH, '//*[@id=\"main\"]/section/article/div/div/div[4]/div/div[1]/div/table')\n",
    "            table_2 = driver.find_element(By.XPATH, '//*[@id=\"main\"]/section/article/div/div/div[4]/div/div[2]/div/table')\n",
    "\n",
    "            # Extracting data from the tables\n",
    "            table_1_data = table_1.text.split('\\n')\n",
    "            table_2_data = table_2.text.split('\\n')\n",
    "\n",
    "            # Store data in list of lists\n",
    "            data = []\n",
    "\n",
    "            # Extracting the current year and month\n",
    "            current_year = year_input\n",
    "            current_month = month_input\n",
    "\n",
    "            # Store data for table 1\n",
    "            for line in table_1_data[1:]:\n",
    "                row = line.split()\n",
    "                if len(row) == 3:\n",
    "                    day = int(row[0])\n",
    "                    hora_min = row[1]\n",
    "                    altura = row[2].replace(',', '.')  # Replace comma with period\n",
    "                    \n",
    "                    # Create datetime object for the current row\n",
    "                    current_date = datetime(current_year, current_month, day).strftime('%Y-%m-%d')\n",
    "                    \n",
    "                    data.append([current_date, hora_min, altura])\n",
    "                else:\n",
    "                    data.append([current_date] + line.split())\n",
    "            \n",
    "            # Store data for table 2\n",
    "            for line in table_2_data[1:]:\n",
    "                row = line.split()\n",
    "                if len(row) == 3:\n",
    "                    day = int(row[0])\n",
    "                    hora_min = row[1]\n",
    "                    altura = row[2].replace(',', '.')  # Replace comma with period\n",
    "                    \n",
    "                    # Create datetime object for the current row\n",
    "                    current_date = datetime(current_year, current_month, day).strftime('%Y-%m-%d')\n",
    "                    \n",
    "                    data.append([current_date, hora_min, altura])\n",
    "                else:\n",
    "                    data.append([current_date] + line.split())\n",
    "\n",
    "            # Convert list of lists to DataFrame\n",
    "            df = pd.DataFrame(data, columns=['DIA', 'HORA:MIN', 'ALTURA (m)'])\n",
    "            data_frames.append(df)\n",
    "\n",
    "            driver.back()  # Go back to the initial page\n",
    "\n",
    "    driver.quit()\n",
    "\n",
    "    # Concatenate all DataFrames\n",
    "    final_df = pd.concat(data_frames, ignore_index=True)\n",
    "\n",
    "    return final_df"
   ]
  },
  {
   "cell_type": "markdown",
   "metadata": {},
   "source": [
    "## 2. Demonstration"
   ]
  },
  {
   "cell_type": "markdown",
   "metadata": {},
   "source": [
    "This code will take a while to complete, so here's a short example for data from a particular year:"
   ]
  },
  {
   "cell_type": "markdown",
   "metadata": {},
   "source": [
    "The function will open Chrome automatically and start selecting the correct locality, year, and month"
   ]
  },
  {
   "cell_type": "code",
   "execution_count": 7,
   "metadata": {},
   "outputs": [
    {
     "data": {
      "text/html": [
       "<div>\n",
       "<style scoped>\n",
       "    .dataframe tbody tr th:only-of-type {\n",
       "        vertical-align: middle;\n",
       "    }\n",
       "\n",
       "    .dataframe tbody tr th {\n",
       "        vertical-align: top;\n",
       "    }\n",
       "\n",
       "    .dataframe thead th {\n",
       "        text-align: right;\n",
       "    }\n",
       "</style>\n",
       "<table border=\"1\" class=\"dataframe\">\n",
       "  <thead>\n",
       "    <tr style=\"text-align: right;\">\n",
       "      <th></th>\n",
       "      <th>DIA</th>\n",
       "      <th>HORA:MIN</th>\n",
       "      <th>ALTURA (m)</th>\n",
       "    </tr>\n",
       "  </thead>\n",
       "  <tbody>\n",
       "    <tr>\n",
       "      <th>0</th>\n",
       "      <td>2022-01-01</td>\n",
       "      <td>05:55</td>\n",
       "      <td>1.37</td>\n",
       "    </tr>\n",
       "    <tr>\n",
       "      <th>1</th>\n",
       "      <td>2022-01-01</td>\n",
       "      <td>13:34</td>\n",
       "      <td>0,52</td>\n",
       "    </tr>\n",
       "    <tr>\n",
       "      <th>2</th>\n",
       "      <td>2022-01-01</td>\n",
       "      <td>18:30</td>\n",
       "      <td>1,07</td>\n",
       "    </tr>\n",
       "    <tr>\n",
       "      <th>3</th>\n",
       "      <td>2022-01-02</td>\n",
       "      <td>00:46</td>\n",
       "      <td>0.57</td>\n",
       "    </tr>\n",
       "    <tr>\n",
       "      <th>4</th>\n",
       "      <td>2022-01-02</td>\n",
       "      <td>06:47</td>\n",
       "      <td>1,31</td>\n",
       "    </tr>\n",
       "    <tr>\n",
       "      <th>...</th>\n",
       "      <td>...</td>\n",
       "      <td>...</td>\n",
       "      <td>...</td>\n",
       "    </tr>\n",
       "    <tr>\n",
       "      <th>1405</th>\n",
       "      <td>2022-12-30</td>\n",
       "      <td>20:12</td>\n",
       "      <td>0,23</td>\n",
       "    </tr>\n",
       "    <tr>\n",
       "      <th>1406</th>\n",
       "      <td>2022-12-31</td>\n",
       "      <td>02:55</td>\n",
       "      <td>1.57</td>\n",
       "    </tr>\n",
       "    <tr>\n",
       "      <th>1407</th>\n",
       "      <td>2022-12-31</td>\n",
       "      <td>10:54</td>\n",
       "      <td>0,49</td>\n",
       "    </tr>\n",
       "    <tr>\n",
       "      <th>1408</th>\n",
       "      <td>2022-12-31</td>\n",
       "      <td>15:08</td>\n",
       "      <td>0,60</td>\n",
       "    </tr>\n",
       "    <tr>\n",
       "      <th>1409</th>\n",
       "      <td>2022-12-31</td>\n",
       "      <td>21:05</td>\n",
       "      <td>0,28</td>\n",
       "    </tr>\n",
       "  </tbody>\n",
       "</table>\n",
       "<p>1410 rows × 3 columns</p>\n",
       "</div>"
      ],
      "text/plain": [
       "             DIA HORA:MIN ALTURA (m)\n",
       "0     2022-01-01    05:55       1.37\n",
       "1     2022-01-01    13:34       0,52\n",
       "2     2022-01-01    18:30       1,07\n",
       "3     2022-01-02    00:46       0.57\n",
       "4     2022-01-02    06:47       1,31\n",
       "...          ...      ...        ...\n",
       "1405  2022-12-30    20:12       0,23\n",
       "1406  2022-12-31    02:55       1.57\n",
       "1407  2022-12-31    10:54       0,49\n",
       "1408  2022-12-31    15:08       0,60\n",
       "1409  2022-12-31    21:05       0,28\n",
       "\n",
       "[1410 rows x 3 columns]"
      ]
     },
     "execution_count": 7,
     "metadata": {},
     "output_type": "execute_result"
    }
   ],
   "source": [
    "retrieve_and_create_df(2022,2022)"
   ]
  },
  {
   "cell_type": "markdown",
   "metadata": {},
   "source": [
    "Note that each day has around 3 or 4 values for hour and height. This is because of the different tides that happen through the day"
   ]
  }
 ],
 "metadata": {
  "kernelspec": {
   "display_name": "tigre",
   "language": "python",
   "name": "python3"
  },
  "language_info": {
   "codemirror_mode": {
    "name": "ipython",
    "version": 3
   },
   "file_extension": ".py",
   "mimetype": "text/x-python",
   "name": "python",
   "nbconvert_exporter": "python",
   "pygments_lexer": "ipython3",
   "version": "3.10.13"
  }
 },
 "nbformat": 4,
 "nbformat_minor": 2
}
